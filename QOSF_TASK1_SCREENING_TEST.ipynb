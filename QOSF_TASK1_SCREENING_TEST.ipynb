{
 "cells": [
  {
   "cell_type": "markdown",
   "id": "93970e9e",
   "metadata": {},
   "source": [
    "# Operand A = 5 / Operand B = 6"
   ]
  },
  {
   "cell_type": "code",
   "execution_count": 18,
   "id": "a6c2e9db",
   "metadata": {},
   "outputs": [],
   "source": [
    "from qiskit import QuantumRegister, ClassicalRegister\n",
    "from qiskit import QuantumCircuit, execute,IBMQ\n",
    "from qiskit.tools.monitor import job_monitor\n",
    "from qiskit.circuit.library import RGQFTMultiplier"
   ]
  },
  {
   "cell_type": "code",
   "execution_count": 10,
   "id": "6b50c710",
   "metadata": {},
   "outputs": [],
   "source": [
    "provider = IBMQ.get_provider(hub='ibm-q')\n",
    "\n",
    "backend = provider.get_backend('ibmq_qasm_simulator')"
   ]
  },
  {
   "cell_type": "code",
   "execution_count": 11,
   "id": "46a472aa",
   "metadata": {},
   "outputs": [],
   "source": [
    "q = QuantumRegister(12,'q')\n",
    "c = ClassicalRegister(6,'c')\n",
    "\n",
    "circuit = QuantumCircuit(q,c)"
   ]
  },
  {
   "cell_type": "markdown",
   "id": "08e68c3d",
   "metadata": {},
   "source": [
    "The next step is to encode 5 on to Operand A and 6 on to Operand B. \n",
    "\n",
    "Since 5 is ‘101’ in binary we leave qubit 1 as it is so that its state is |0〉and apply a Pauli-X gate to qubit 0 and qubit 2 so that it state flips from |0〉 to |1〉. \n",
    "\n",
    "To encode 6 on Operand B we apply Pauli-X gates to qubits 4 and 5 and leave qubit 3 as it is in state 0 since 6 is ‘110’ in binary. \n",
    "\n"
   ]
  },
  {
   "cell_type": "code",
   "execution_count": 12,
   "id": "e2318d57",
   "metadata": {},
   "outputs": [
    {
     "data": {
      "text/plain": [
       "<qiskit.circuit.instructionset.InstructionSet at 0x20d5a53a220>"
      ]
     },
     "execution_count": 12,
     "metadata": {},
     "output_type": "execute_result"
    }
   ],
   "source": [
    "# Operand A = 101 (5)\n",
    "circuit.x(q[0])\n",
    "circuit.x(q[2])\n",
    "\n",
    "# Operand B = 110 (6)\n",
    "\n",
    "circuit.x(q[4])\n",
    "circuit.x(q[5])"
   ]
  },
  {
   "cell_type": "markdown",
   "id": "c076d8ee",
   "metadata": {},
   "source": [
    "The next step is to create the QFT multiplication circuit.\n",
    "\n",
    "Using the RGQFTMultiplier() function which we pass the following arguments in to:\n",
    "\n",
    "num_state_qubits: The number of bits for each operand. Since we are doing 5*6 we only need 3 bits for each \n",
    "\n",
    "num_result_qubits: This denotes the number of output qubits. For this we set it to 6 to prevent integer overflow. "
   ]
  },
  {
   "cell_type": "code",
   "execution_count": 13,
   "id": "4e59f8c4",
   "metadata": {},
   "outputs": [],
   "source": [
    "circuit1 = RGQFTMultiplier(num_state_qubits =3, num_result_qubits=6)\n",
    "circuit = circuit.compose(circuit1)"
   ]
  },
  {
   "cell_type": "code",
   "execution_count": 14,
   "id": "5dfe4e3a",
   "metadata": {},
   "outputs": [
    {
     "name": "stdout",
     "output_type": "stream",
     "text": [
      "      ┌───┐┌───────────────────┐┌───────────────────┐                  \n",
      " q_0: ┤ X ├┤0                  ├┤0                  ├──────────────────\n",
      "      └───┘│                   ││                   │                  \n",
      " q_1: ─────┤1                  ├┤1                  ├──────────────────\n",
      "      ┌───┐│                   ││                   │                  \n",
      " q_2: ┤ X ├┤2                  ├┤2                  ├──────────────────\n",
      "      └───┘│                   ││                   │                  \n",
      " q_3: ─────┤3                  ├┤3                  ├──────────────────\n",
      "      ┌───┐│                   ││                   │                  \n",
      " q_4: ┤ X ├┤4                  ├┤4                  ├──────────────────\n",
      "      ├───┤│                   ││                   │                  \n",
      " q_5: ┤ X ├┤5                  ├┤5                  ├──────────────────\n",
      "      └───┘│   RGQFTMultiplier ││   RGQFTMultiplier │┌─┐               \n",
      " q_6: ─────┤6                  ├┤6                  ├┤M├───────────────\n",
      "           │                   ││                   │└╥┘┌─┐            \n",
      " q_7: ─────┤7                  ├┤7                  ├─╫─┤M├────────────\n",
      "           │                   ││                   │ ║ └╥┘┌─┐         \n",
      " q_8: ─────┤8                  ├┤8                  ├─╫──╫─┤M├─────────\n",
      "           │                   ││                   │ ║  ║ └╥┘┌─┐      \n",
      " q_9: ─────┤9                  ├┤9                  ├─╫──╫──╫─┤M├──────\n",
      "           │                   ││                   │ ║  ║  ║ └╥┘┌─┐   \n",
      "q_10: ─────┤10                 ├┤10                 ├─╫──╫──╫──╫─┤M├───\n",
      "           │                   ││                   │ ║  ║  ║  ║ └╥┘┌─┐\n",
      "q_11: ─────┤11                 ├┤11                 ├─╫──╫──╫──╫──╫─┤M├\n",
      "           └───────────────────┘└───────────────────┘ ║  ║  ║  ║  ║ └╥┘\n",
      " c: 6/════════════════════════════════════════════════╩══╩══╩══╩══╩══╩═\n",
      "                                                      0  1  2  3  4  5 \n"
     ]
    }
   ],
   "source": [
    "circuit = circuit.compose(circuit1)\n",
    "\n",
    "circuit.measure(q[6],c[0])\n",
    "circuit.measure(q[7],c[1])\n",
    "circuit.measure(q[8],c[2])\n",
    "circuit.measure(q[9],c[3])\n",
    "circuit.measure(q[10],c[4])\n",
    "circuit.measure(q[11],c[5])\n",
    "\n",
    "print(circuit)"
   ]
  },
  {
   "cell_type": "code",
   "execution_count": 15,
   "id": "056021b2",
   "metadata": {},
   "outputs": [
    {
     "name": "stdout",
     "output_type": "stream",
     "text": [
      "30\n",
      "---\n",
      "{'111100': 1024}\n",
      "CPU times: total: 297 ms\n",
      "Wall time: 15.5 s\n"
     ]
    }
   ],
   "source": [
    "%%time\n",
    "backend = provider.get_backend('ibmq_qasm_simulator')\n",
    "job = execute(circuit, backend, shots=1024)\n",
    "result = job.result()\n",
    "counts = result.get_counts()\n",
    "\n",
    "A = 5*6\n",
    "\n",
    "print(A)\n",
    "print('---')\n",
    "print(counts)"
   ]
  },
  {
   "cell_type": "markdown",
   "id": "8b3c1602",
   "metadata": {},
   "source": [
    "Circuit Depth"
   ]
  },
  {
   "cell_type": "code",
   "execution_count": 16,
   "id": "680fb2ce",
   "metadata": {},
   "outputs": [
    {
     "data": {
      "text/plain": [
       "4"
      ]
     },
     "execution_count": 16,
     "metadata": {},
     "output_type": "execute_result"
    }
   ],
   "source": [
    "circuit.depth()"
   ]
  },
  {
   "cell_type": "markdown",
   "id": "41160e07",
   "metadata": {},
   "source": [
    "No of Gates"
   ]
  },
  {
   "cell_type": "code",
   "execution_count": 17,
   "id": "83204ea0",
   "metadata": {},
   "outputs": [
    {
     "name": "stdout",
     "output_type": "stream",
     "text": [
      "{'measure': 6, 'x': 4, 'RGQFTMultiplier': 2}\n"
     ]
    }
   ],
   "source": [
    "print(dict(circuit.count_ops()))"
   ]
  },
  {
   "cell_type": "markdown",
   "id": "860f695c",
   "metadata": {},
   "source": [
    "# Operand A = 11 / Operand B = 12"
   ]
  },
  {
   "cell_type": "code",
   "execution_count": 19,
   "id": "fdb7e1fb",
   "metadata": {},
   "outputs": [],
   "source": [
    "from qiskit import QuantumRegister, ClassicalRegister\n",
    "from qiskit import QuantumCircuit, execute,IBMQ\n",
    "from qiskit.tools.monitor import job_monitor\n",
    "from qiskit.circuit.library import RGQFTMultiplier"
   ]
  },
  {
   "cell_type": "code",
   "execution_count": 20,
   "id": "aabd7ec8",
   "metadata": {},
   "outputs": [],
   "source": [
    "q = QuantumRegister(16,'q')\n",
    "c = ClassicalRegister(8,'c')\n",
    "\n",
    "circuit = QuantumCircuit(q,c)"
   ]
  },
  {
   "cell_type": "markdown",
   "id": "90a475da",
   "metadata": {},
   "source": [
    "The next step is to encode 11 on to Operand A and 12 on to Operand B.\n",
    "\n",
    "Since 11 is ‘1011’ in binary we leave qubit 2 as it is so that its state is |0〉and apply a Pauli-X gate to qubit 0 and qubit 1 and qubit 3 so that it state flips from |0〉 to |1〉.\n",
    "\n",
    "To encode 12 on Operand B we apply Pauli-X gates to qubits 6 and 7 and leave qubit 4 and 5 as it is in state 0 since 6 is ‘1100’ in binary."
   ]
  },
  {
   "cell_type": "code",
   "execution_count": 25,
   "id": "dbe5ef47",
   "metadata": {},
   "outputs": [
    {
     "data": {
      "text/plain": [
       "<qiskit.circuit.instructionset.InstructionSet at 0x20d5ae5d340>"
      ]
     },
     "execution_count": 25,
     "metadata": {},
     "output_type": "execute_result"
    }
   ],
   "source": [
    "# Operand A = 1011 (11)\n",
    "circuit.x(q[0])\n",
    "circuit.x(q[1])\n",
    "circuit.x(q[3])\n",
    "\n",
    "# Operand B = 1100 (12)\n",
    "\n",
    "circuit.x(q[6])\n",
    "circuit.x(q[7])"
   ]
  },
  {
   "cell_type": "markdown",
   "id": "9ad61d72",
   "metadata": {},
   "source": [
    "The next step is to create the QFT multiplication circuit.\n",
    "\n",
    "Using the RGQFTMultiplier() function which we pass the following arguments in to:\n",
    "\n",
    "num_state_qubits: The number of bits for each operand. Since we are doing 11*12 we only need 4 bits for each\n",
    "\n",
    "num_result_qubits: This denotes the number of output qubits. For this we set it to 8 to prevent integer overflow."
   ]
  },
  {
   "cell_type": "code",
   "execution_count": 22,
   "id": "9e155db7",
   "metadata": {},
   "outputs": [],
   "source": [
    "circuit1 = RGQFTMultiplier(num_state_qubits =4, num_result_qubits=8)\n",
    "circuit = circuit.compose(circuit1)"
   ]
  },
  {
   "cell_type": "code",
   "execution_count": 23,
   "id": "676b1e42",
   "metadata": {},
   "outputs": [
    {
     "name": "stdout",
     "output_type": "stream",
     "text": [
      "      ┌───┐┌───────────────────┐┌───────────────────┐                        \n",
      " q_0: ┤ X ├┤0                  ├┤0                  ├────────────────────────\n",
      "      ├───┤│                   ││                   │                        \n",
      " q_1: ┤ X ├┤1                  ├┤1                  ├────────────────────────\n",
      "      └───┘│                   ││                   │                        \n",
      " q_2: ─────┤2                  ├┤2                  ├────────────────────────\n",
      "      ┌───┐│                   ││                   │                        \n",
      " q_3: ┤ X ├┤3                  ├┤3                  ├────────────────────────\n",
      "      └───┘│                   ││                   │                        \n",
      " q_4: ─────┤4                  ├┤4                  ├────────────────────────\n",
      "           │                   ││                   │                        \n",
      " q_5: ─────┤5                  ├┤5                  ├────────────────────────\n",
      "      ┌───┐│                   ││                   │                        \n",
      " q_6: ┤ X ├┤6                  ├┤6                  ├────────────────────────\n",
      "      ├───┤│                   ││                   │                        \n",
      " q_7: ┤ X ├┤7                  ├┤7                  ├────────────────────────\n",
      "      └───┘│   RGQFTMultiplier ││   RGQFTMultiplier │┌─┐                     \n",
      " q_8: ─────┤8                  ├┤8                  ├┤M├─────────────────────\n",
      "           │                   ││                   │└╥┘┌─┐                  \n",
      " q_9: ─────┤9                  ├┤9                  ├─╫─┤M├──────────────────\n",
      "           │                   ││                   │ ║ └╥┘┌─┐               \n",
      "q_10: ─────┤10                 ├┤10                 ├─╫──╫─┤M├───────────────\n",
      "           │                   ││                   │ ║  ║ └╥┘┌─┐            \n",
      "q_11: ─────┤11                 ├┤11                 ├─╫──╫──╫─┤M├────────────\n",
      "           │                   ││                   │ ║  ║  ║ └╥┘┌─┐         \n",
      "q_12: ─────┤12                 ├┤12                 ├─╫──╫──╫──╫─┤M├─────────\n",
      "           │                   ││                   │ ║  ║  ║  ║ └╥┘┌─┐      \n",
      "q_13: ─────┤13                 ├┤13                 ├─╫──╫──╫──╫──╫─┤M├──────\n",
      "           │                   ││                   │ ║  ║  ║  ║  ║ └╥┘┌─┐   \n",
      "q_14: ─────┤14                 ├┤14                 ├─╫──╫──╫──╫──╫──╫─┤M├───\n",
      "           │                   ││                   │ ║  ║  ║  ║  ║  ║ └╥┘┌─┐\n",
      "q_15: ─────┤15                 ├┤15                 ├─╫──╫──╫──╫──╫──╫──╫─┤M├\n",
      "           └───────────────────┘└───────────────────┘ ║  ║  ║  ║  ║  ║  ║ └╥┘\n",
      " c: 8/════════════════════════════════════════════════╩══╩══╩══╩══╩══╩══╩══╩═\n",
      "                                                      0  1  2  3  4  5  6  7 \n",
      "CPU times: total: 46.9 ms\n",
      "Wall time: 91.3 ms\n"
     ]
    }
   ],
   "source": [
    "%%time\n",
    "\n",
    "circuit = circuit.compose(circuit1)\n",
    "\n",
    "circuit.measure(q[8],c[0])\n",
    "circuit.measure(q[9],c[1])\n",
    "circuit.measure(q[10],c[2])\n",
    "circuit.measure(q[11],c[3])\n",
    "circuit.measure(q[12],c[4])\n",
    "circuit.measure(q[13],c[5])\n",
    "circuit.measure(q[14],c[6])\n",
    "circuit.measure(q[15],c[7])\n",
    "\n",
    "print(circuit)"
   ]
  },
  {
   "cell_type": "code",
   "execution_count": 26,
   "id": "947cb6fb",
   "metadata": {},
   "outputs": [
    {
     "name": "stdout",
     "output_type": "stream",
     "text": [
      "132\n",
      "---\n",
      "{'00001000': 1024}\n",
      "CPU times: total: 719 ms\n",
      "Wall time: 51.6 s\n"
     ]
    }
   ],
   "source": [
    "%%time\n",
    "\n",
    "backend = provider.get_backend('ibmq_qasm_simulator')\n",
    "job = execute(circuit, backend, shots=1024)\n",
    "result = job.result()\n",
    "counts = result.get_counts()\n",
    "\n",
    "A = 11*12\n",
    "\n",
    "print(A)\n",
    "print('---')\n",
    "print(counts)"
   ]
  },
  {
   "cell_type": "markdown",
   "id": "e1d8ee21",
   "metadata": {},
   "source": [
    "Circuit Depth"
   ]
  },
  {
   "cell_type": "code",
   "execution_count": 27,
   "id": "dae7da24",
   "metadata": {},
   "outputs": [
    {
     "data": {
      "text/plain": [
       "4"
      ]
     },
     "execution_count": 27,
     "metadata": {},
     "output_type": "execute_result"
    }
   ],
   "source": [
    "circuit.depth()"
   ]
  },
  {
   "cell_type": "markdown",
   "id": "0b39cc73",
   "metadata": {},
   "source": [
    "No of Gates"
   ]
  },
  {
   "cell_type": "code",
   "execution_count": 28,
   "id": "8cdf9459",
   "metadata": {},
   "outputs": [
    {
     "name": "stdout",
     "output_type": "stream",
     "text": [
      "{'x': 10, 'measure': 8, 'RGQFTMultiplier': 2}\n"
     ]
    }
   ],
   "source": [
    "print(dict(circuit.count_ops()))"
   ]
  },
  {
   "cell_type": "code",
   "execution_count": null,
   "id": "96bd0ecc",
   "metadata": {},
   "outputs": [],
   "source": []
  }
 ],
 "metadata": {
  "kernelspec": {
   "display_name": "Python 3 (ipykernel)",
   "language": "python",
   "name": "python3"
  },
  "language_info": {
   "codemirror_mode": {
    "name": "ipython",
    "version": 3
   },
   "file_extension": ".py",
   "mimetype": "text/x-python",
   "name": "python",
   "nbconvert_exporter": "python",
   "pygments_lexer": "ipython3",
   "version": "3.9.12"
  }
 },
 "nbformat": 4,
 "nbformat_minor": 5
}
